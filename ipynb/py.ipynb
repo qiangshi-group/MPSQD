{
 "cells": [
  {
   "cell_type": "markdown",
   "id": "283fe936-a8d6-4c43-959b-8219a34df8dc",
   "metadata": {},
   "source": [
    "# Simulating Pyrazine system with parameters given in the input file\n",
    "\n",
    "We will handle the pyrazine system in this example. Its Hamiltonian has the form as:\n",
    "\\begin{align} \\label{eq:Hamiltonian}\n",
    "    \\hat{\\boldsymbol{\\rm H}} = \\sum_{i}\\frac{\\omega_{i}}{2}\\left(q_{i}^{2}+p_{j}^{2}\\right)+\\begin{pmatrix} -\\Delta & 0 \\\\ 0 & \\Delta \\end{pmatrix} + \\sum_{i\\in G_{1}}\\begin{pmatrix} a^{1}_{i} & 0 \\\\ 0 & a^{2}_{i} \\end{pmatrix}q_{i} + \\sum_{(i,j)\\in G_{2}}\\begin{pmatrix} a^{1}_{i,j} & 0 \\\\ 0 & a^{2}_{i,j} \\end{pmatrix}q_{i}q_{j} + \\sum_{i\\in G_{3}}\\begin{pmatrix} 0 & c_{i} \\\\ c_{i} & 0 \\end{pmatrix}q_{i} + \\sum_{(i,j)\\in G_{4}}\\begin{pmatrix} 0 & c_{i,j} \\\\ c_{i,j} & 0 \\end{pmatrix}q_{i}q_{j},\n",
    "\\end{align}\n",
    "here $q_{i}$ and $p_{i}$ are the coordinate and momentum of the $i$-th mode, 2$\\Delta$ is the energy gap between two electronic states, $a^{1}_{i}$ and $a^{2}_{i}$ are the linear diagonal coupling constants, $a^{1}_{i,j}$ and $a^{2}_{i,j}$ are the quadratic diagonal coupling constants, $c_{i}$ is the linear off-diagonal coupling constants, and $c_{i,j}$ is the linear off-diagonal coupling constants. $G_{1}$ includes the vibrational modes with $A_{g}$ symmetry, $G_{2}$ includes the pairs of modes with $A_{g}$ symmetry, $G_{3}$ includes the vibrational modes with $B_{1g}$ symmetry, and $G_{4}$ includes the pairs of modes with $B_{1g}$ symmetry."
   ]
  },
  {
   "cell_type": "code",
   "execution_count": 1,
   "id": "e1da4298",
   "metadata": {},
   "outputs": [],
   "source": [
    "import mpsqd\n",
    "import numpy as np\n",
    "import sys"
   ]
  },
  {
   "cell_type": "markdown",
   "id": "f8d6794e",
   "metadata": {},
   "source": [
    "\n",
    "## 1 Get system parameters from the input file. \n",
    "\n",
    "In this part, a input file ```4py.inp``` for 4-mode pyrazine will be provided.\n",
    "\n",
    "```mpsqd.models.Vibronic(filename=None, file_type=\"d\")```\n",
    "\n",
    "Reading the parameters from input file, these parameters will be saved as ```self.params```.\n",
    "\n",
    "   **Parameters:**\n",
    "   \n",
    "   **filename: _str, optional_**\n",
    "    \n",
    "   The name of input file. When it is not given or corresponding file is not existing, the input file will be searched automaticly in the path of program file for the file with suffix \".inp\".\n",
    "    \n",
    "   **file_type: _{‘D’, ‘M'}, optional_**\n",
    "   \n",
    "   The type of input file. 'D' means the default style input file, 'M' means the MCTDH style input file."
   ]
  },
  {
   "cell_type": "code",
   "execution_count": 3,
   "id": "a59a167d",
   "metadata": {
    "scrolled": true
   },
   "outputs": [
    {
     "name": "stdout",
     "output_type": "stream",
     "text": [
      "============================================================\n",
      "python code for pyrazine population and correlation function\n",
      "Input file: 4py.inp\n",
      "e0 term done\n",
      "harmonic term done\n",
      "diagonal liner term done\n",
      "diagonal quadratic term done\n",
      "diagonal bilinear term done\n",
      "off-diagonal liner term done\n",
      "off-diagonal quadratic term done\n",
      "off-diagonal bilinear term done\n"
     ]
    }
   ],
   "source": [
    "py = mpsqd.models.Vibronic(\"4py.inp\",\"d\")"
   ]
  },
  {
   "cell_type": "markdown",
   "id": "515bfe84",
   "metadata": {},
   "source": [
    "## 2 Constructing the MPO and initial MPS.\n",
    "\n",
    "```Vibronic.construct()```\n",
    "\n",
    "  Construct MPO and MPS from the parameters saved before, the resulting MPO will be saved as ```self.pall```, and MPS will be ```self.rin```.Reading the parameters from input file, these parameters will be saved as ```self.params```."
   ]
  },
  {
   "cell_type": "code",
   "execution_count": null,
   "id": "b4900b0d",
   "metadata": {},
   "outputs": [],
   "source": [
    "py.construct()"
   ]
  },
  {
   "cell_type": "markdown",
   "id": "a28e3017",
   "metadata": {},
   "source": [
    "## 3 Simulating with the control parameters.\n",
    "\n",
    "```Vibronic.prop(dt,nsteps,out_file_name=\"output.dat\",prop_type=\"ksl\",mmax=30,small=1e-14,nrmax=50,need_trun=True)```\n",
    "\n",
    "  Propagating dynamics with ```self.rin``` and ```self.pall```.\n",
    "\n",
    "  **Parameters:**\n",
    "   \n",
    "  **dt: _float_**\n",
    "    \n",
    "   The time step for simulation.\n",
    "    \n",
    "  **nsteps: _int_**\n",
    "   \n",
    "   The total number of steps for simulation.\n",
    "    \n",
    "  **out_file_name: _str, optional_**\n",
    "   \n",
    "   The name of output file, which is need to record the population for the electronic states at every time step.\n",
    "    \n",
    "  **prop_type: _{‘ksl’, ‘rk4'}, optional_**\n",
    "   \n",
    "   The method for simulation. 'ksl' means time-dependent variational principle method, 'rk4' means 4-th order Runge-Kutta method.\n",
    "  \n",
    "  **mmax: _int, optional_**\n",
    "   \n",
    "   The demension of the Krylov space for calculating matrix exponential. It is only used when ```prop_type=='ksl'```.\n",
    "      \n",
    "  **small: _float, optional_**\n",
    "   \n",
    "   The smallest singular value acceptable when MPS is being truncating. It is only used when ```prop_type=='rk4'```.\n",
    "\n",
    "  **nrmax: _int, optional_**\n",
    "   \n",
    "   The maximum value for the bound between tensors when MPS is being truncated. This maximum value will be unlimited when ```nrmax==0```. It is only used when ```prop_type=='rk4'```.\n",
    "    \n",
    "  **need_trun: _{‘True’,‘False'}, optional_**\n",
    "   \n",
    "   Whether the MPS will be truncated at each time step. It is only used when ```prop_type=='rk4'```.\n",
    "    \n",
    "   **Return:**\n",
    "   \n",
    "   **pop_array: _ndarray_**\n",
    "   \n",
    "   The result of simulating, ```pop_array[0,:]``` is the time grids, and ```pop_array[1:,:]``` is the population for each electronic states at each time steps, where the first dimension is for states and the second is for time step."
   ]
  },
  {
   "cell_type": "code",
   "execution_count": 4,
   "id": "a05e45f8",
   "metadata": {},
   "outputs": [
    {
     "name": "stdout",
     "output_type": "stream",
     "text": [
      "istep = 1\n",
      "istep = 2\n",
      "istep = 3\n",
      "istep = 4\n",
      "istep = 5\n",
      "istep = 6\n",
      "istep = 7\n",
      "istep = 8\n",
      "istep = 9\n",
      "istep = 10\n",
      "istep = 11\n",
      "istep = 12\n",
      "istep = 13\n",
      "istep = 14\n",
      "istep = 15\n",
      "istep = 16\n",
      "istep = 17\n",
      "istep = 18\n",
      "istep = 19\n",
      "istep = 20\n",
      "istep = 21\n",
      "istep = 22\n",
      "istep = 23\n",
      "istep = 24\n",
      "istep = 25\n",
      "istep = 26\n",
      "istep = 27\n",
      "istep = 28\n",
      "istep = 29\n",
      "istep = 30\n",
      "istep = 31\n",
      "istep = 32\n",
      "istep = 33\n",
      "istep = 34\n",
      "istep = 35\n",
      "istep = 36\n",
      "istep = 37\n",
      "istep = 38\n",
      "istep = 39\n",
      "istep = 40\n",
      "istep = 41\n",
      "istep = 42\n",
      "istep = 43\n",
      "istep = 44\n",
      "istep = 45\n",
      "istep = 46\n",
      "istep = 47\n",
      "istep = 48\n",
      "istep = 49\n",
      "istep = 50\n",
      "istep = 51\n",
      "istep = 52\n",
      "istep = 53\n",
      "istep = 54\n",
      "istep = 55\n",
      "istep = 56\n",
      "istep = 57\n",
      "istep = 58\n",
      "istep = 59\n",
      "istep = 60\n",
      "istep = 61\n",
      "istep = 62\n",
      "istep = 63\n",
      "istep = 64\n",
      "istep = 65\n",
      "istep = 66\n",
      "istep = 67\n",
      "istep = 68\n",
      "istep = 69\n",
      "istep = 70\n",
      "istep = 71\n",
      "istep = 72\n",
      "istep = 73\n",
      "istep = 74\n",
      "istep = 75\n",
      "istep = 76\n",
      "istep = 77\n",
      "istep = 78\n",
      "istep = 79\n",
      "istep = 80\n",
      "istep = 81\n",
      "istep = 82\n",
      "istep = 83\n",
      "istep = 84\n",
      "istep = 85\n",
      "istep = 86\n",
      "istep = 87\n",
      "istep = 88\n",
      "istep = 89\n",
      "istep = 90\n",
      "istep = 91\n",
      "istep = 92\n",
      "istep = 93\n",
      "istep = 94\n",
      "istep = 95\n",
      "istep = 96\n",
      "istep = 97\n",
      "istep = 98\n",
      "istep = 99\n",
      "istep = 100\n"
     ]
    }
   ],
   "source": [
    "rout=py.prop(2.06707,101,mmax=20)"
   ]
  },
  {
   "cell_type": "markdown",
   "id": "7e864e77",
   "metadata": {},
   "source": [
    "## 3 Write MPO and MPS to flie.\n",
    "\n",
    "```Vibronic.write_mpo_file(pall_file)```\n",
    "\n",
    "   Write ```self.pall``` to file.\n",
    " \n",
    "  **Parameters:**\n",
    "\n",
    "  **pall_file: _str_**\n",
    "   \n",
    "   The name of folder for output file, the output file will be named as ```pall_file```+\"_mpo.npz\" \n",
    "   \n",
    "```Vibronic.write_mps_file(pall_file)```\n",
    "\n",
    "   Write ```self.rin``` to file.\n",
    " \n",
    "  **Parameters:**\n",
    "\n",
    "  **pall_file: _str_**\n",
    "   \n",
    "   The name of folder for output file, the output file will be named as ```pall_file```+\"_mps.npz\""
   ]
  },
  {
   "cell_type": "code",
   "execution_count": 4,
   "id": "d3b6b702",
   "metadata": {},
   "outputs": [
    {
     "name": "stdout",
     "output_type": "stream",
     "text": [
      "pall written to file\n"
     ]
    }
   ],
   "source": [
    "py.write_mpo_file(\"pyrazine\")\n",
    "py.write_mps_file(\"pyrazine\")"
   ]
  },
  {
   "cell_type": "markdown",
   "id": "c58a7b70",
   "metadata": {},
   "source": [
    "Showing the result saved in ```rout``` graphically:"
   ]
  },
  {
   "cell_type": "code",
   "execution_count": 5,
   "id": "0f9cdca5",
   "metadata": {},
   "outputs": [
    {
     "data": {
      "image/png": "[encoded data removed]",
      "text/plain": [
       "<Figure size 640x480 with 1 Axes>"
      ]
     },
     "metadata": {},
     "output_type": "display_data"
    }
   ],
   "source": [
    "import matplotlib.pyplot as plt\n",
    "plt.plot(rout[0,:],rout[1,:])\n",
    "plt.show()"
   ]
  }
 ],
 "metadata": {
  "kernelspec": {
   "display_name": "Python 3.11.0 ('fordan')",
   "language": "python",
   "name": "python3"
  },
  "language_info": {
   "codemirror_mode": {
    "name": "ipython",
    "version": 3
   },
   "file_extension": ".py",
   "mimetype": "text/x-python",
   "name": "python",
   "nbconvert_exporter": "python",
   "pygments_lexer": "ipython3",
   "version": "3.11.0"
  },
  "vscode": {
   "interpreter": {
    "hash": "494b151317696aa412f85102113c47a839c88c304d06d0e2e6a25f0184b34ae0"
   }
  }
 },
 "nbformat": 4,
 "nbformat_minor": 5
}
