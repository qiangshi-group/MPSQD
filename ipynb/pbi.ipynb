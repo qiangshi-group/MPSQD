{
 "cells": [
  {
   "cell_type": "markdown",
   "id": "1cd26e9e",
   "metadata": {},
   "source": [
    "# Simulating perylene-bisimide hexamer system with parameters given in the input file\n",
    "\n",
    "We will handle the Perylene-Bisimide (PBI) hexamer system in this example. Its Hamiltonian has the form as:\n",
    "\\begin{align}\n",
    "    \\hat{\\boldsymbol{\\rm H}} = \\left[\\frac{1}{2}\\sum_{m}\\sum_{j}{\\omega_{j}}({p_{m,j}}^{2}+{q_{m,j}}^{2})\\right] | 0\\rangle \\langle 0| + \\sum_{m}\\left[\\frac{1}{2}\\sum_{n}\\sum_{j}{\\omega_{j}}({p_{n,j}}^{2}+{q_{n,j}}^{2})+\\sum_{j}k_{j}q_{m,j}\\right]\n",
    "|{m}\\rangle\\langle {m}| + \\sum_{m,n}J_{mn}|m \\rangle\\langle n|,\n",
    "\\end{align}\n",
    "here $|0\\rangle$ represents a state where all the monomers are in the ground electronic state, $|m\\rangle$ represents a state where only the $m$-th monomer is excited. $p_{m,j}$, $q_{m,j}$ are the momentum and coordinate of the $j$-th vibrational mode on the $m$-th site, $\\omega_{j}$ is the frequency of the $j$-th vibrational mode, $k_{j}$ is the coupling constant between the $j$-th vibrational mode and excited electronic states, and $J_{mn}$ is the coupling constant between the $| m\\rangle$ and $|n\\rangle$ electronic states."
   ]
  },
  {
   "cell_type": "code",
   "execution_count": 1,
   "id": "e1da4298",
   "metadata": {},
   "outputs": [],
   "source": [
    "import mpsqd\n",
    "import numpy as np\n",
    "import sys"
   ]
  },
  {
   "cell_type": "markdown",
   "id": "f8d6794e",
   "metadata": {},
   "source": [
    "\n",
    "## 1 Get system parameters from the input file. \n",
    "\n",
    "In this part, a input file ```pbi_mm.inp``` for PBI will be provided.\n",
    "\n",
    "```mpsqd.models.Frenkel_excition(filename=None, file_type=\"d\", multi_mole=True)```\n",
    "\n",
    "Reading the parameters from input file, these parameters will be saved as ```self.params```.\n",
    "\n",
    "   **Parameters:**\n",
    "   \n",
    "   **filename: _str, optional_**\n",
    "    \n",
    "   The name of input file. When it is not given or corresponding file is not existing, the input file will be searched automaticly in the path of program file for the file with suffix \".inp\".\n",
    "    \n",
    "   **file_type: _{‘D’, ‘M'}, optional_**\n",
    "   \n",
    "   The type of input file. 'D' means the default style input file, 'M' means the MCTDH style input file.\n",
    "\n",
    "   **multi_mole: _{‘True’, ‘False'}, optional_**\n",
    "   \n",
    "   Whether to use multi-molecule format input file.   "
   ]
  },
  {
   "cell_type": "code",
   "execution_count": null,
   "id": "e879e8b3",
   "metadata": {},
   "outputs": [],
   "source": [
    "pbi = mpsqd.models.Frenkel_excition(\"pbi_mm.inp\",\"d\",True)"
   ]
  },
  {
   "cell_type": "markdown",
   "id": "a28e3017",
   "metadata": {},
   "source": [
    "## 2 Constructing the MPO and initial MPS.\n",
    "\n",
    "```Frenkel_excition.construct(construct_type=None)```\n",
    "\n",
    "  Construct MPO and MPS from the parameters saved before, the resulting MPO will be saved as ```self.pall```, and MPS will be ```self.rin```.\n",
    "\n",
    "**Parameters:**\n",
    "\n",
    "  **construct_type: _{‘simple’,'term', None}, optional_**\n",
    "   \n",
    "   The method for constructing. 'simple' means constructing with order of the Hamiltonian matrix elements, 'term' means constructing with the order of different types of terms of Hamiltonian, None means the method will be decided automaticly. The result will be almost same with above methods, but the time cost may differ."
   ]
  },
  {
   "cell_type": "code",
   "execution_count": null,
   "id": "6c410e64",
   "metadata": {},
   "outputs": [],
   "source": [
    "pbi.construct()"
   ]
  },
  {
   "cell_type": "markdown",
   "id": "551a1c0d",
   "metadata": {},
   "source": [
    "## 3 Simulating with the control parameters.\n",
    "\n",
    "```VibronicFrenkel_excition.prop(dt,nsteps,out_file_name=\"output.dat\",prop_type=\"ksl\",mmax=30,small=1e-14,nrmax=50,need_trun=True)```\n",
    "\n",
    "  Propagating dynamics with ```self.rin``` and ```self.pall```.\n",
    "\n",
    "  **Parameters:**\n",
    "   \n",
    "  **dt: _float_**\n",
    "    \n",
    "   The time step for simulation.\n",
    "    \n",
    "  **nsteps: _int_**\n",
    "   \n",
    "   The total number of steps for simulation.\n",
    "    \n",
    "  **out_file_name: _str, optional_**\n",
    "   \n",
    "   The name of output file, which is need to record the population for the electronic states at every time step.\n",
    "    \n",
    "  **prop_type: _{‘ksl’, ‘rk4'}, optional_**\n",
    "   \n",
    "   The method for simulation. 'ksl' means time-dependent variational principle method, 'rk4' means 4-th order Runge-Kutta method.\n",
    "  \n",
    "  **mmax: _int, optional_**\n",
    "   \n",
    "   The demension of the Krylov space for calculating matrix exponential. It is only used when ```prop_type=='ksl'```.\n",
    "      \n",
    "  **small: _float, optional_**\n",
    "   \n",
    "   The smallest singular value acceptable when MPS is being truncating. It is only used when ```prop_type=='rk4'```.\n",
    "\n",
    "  **nrmax: _int, optional_**\n",
    "   \n",
    "   The maximum value for the bound between tensors when MPS is being truncated. This maximum value will be unlimited when ```nrmax==0```. It is only used when ```prop_type=='rk4'```.\n",
    "    \n",
    "  **need_trun: _{‘True’,‘False'}, optional_**\n",
    "   \n",
    "   Whether the MPS will be truncated at each time step. It is only used when ```prop_type=='rk4'```.\n",
    "    \n",
    "   **Return:**\n",
    "   \n",
    "   **pop_array: _ndarray_**\n",
    "   \n",
    "   The result of simulating, ```pop_array[0,:]``` is the time grids, and ```pop_array[1:,:]``` is the population for each electronic states at each time steps, where the first dimension is for states and the second is for time step."
   ]
  },
  {
   "cell_type": "code",
   "execution_count": null,
   "id": "a05e45f8",
   "metadata": {},
   "outputs": [
    {
     "name": "stdout",
     "output_type": "stream",
     "text": [
      "istep = 1\n",
      "istep = 2\n",
      "istep = 3\n",
      "istep = 4\n",
      "istep = 5\n",
      "istep = 6\n",
      "istep = 7\n",
      "istep = 8\n",
      "istep = 9\n",
      "istep = 10\n",
      "istep = 11\n",
      "istep = 12\n",
      "istep = 13\n",
      "istep = 14\n",
      "istep = 15\n",
      "istep = 16\n",
      "istep = 17\n",
      "istep = 18\n",
      "istep = 19\n",
      "istep = 20\n",
      "istep = 21\n",
      "istep = 22\n",
      "istep = 23\n",
      "istep = 24\n",
      "istep = 25\n",
      "istep = 26\n",
      "istep = 27\n",
      "istep = 28\n",
      "istep = 29\n",
      "istep = 30\n",
      "istep = 31\n",
      "istep = 32\n"
     ]
    }
   ],
   "source": [
    "rout=pbi.prop(20.6707,101,mmax=20)"
   ]
  },
  {
   "cell_type": "markdown",
   "id": "7e864e77",
   "metadata": {},
   "source": [
    "## 3 Write MPO and MPS to flie.\n",
    "\n",
    "```Vibronic.write_mpo_file(pall_file)```\n",
    "\n",
    "   Write ```self.pall``` to file.\n",
    " \n",
    "  **Parameters:**\n",
    "\n",
    "  **pall_file: _str_**\n",
    "   \n",
    "   The name of folder for output file, the output file will be named as ```pall_file```+\"_mpo.npz\" \n",
    "   \n",
    "```Vibronic.write_mps_file(pall_file)```\n",
    "\n",
    "   Write ```self.rin``` to file.\n",
    " \n",
    "  **Parameters:**\n",
    "\n",
    "  **pall_file: _str_**\n",
    "   \n",
    "   The name of folder for output file, the output file will be named as ```pall_file```+\"_mps.npz\""
   ]
  },
  {
   "cell_type": "code",
   "execution_count": null,
   "id": "d3b6b702",
   "metadata": {},
   "outputs": [],
   "source": [
    "pbi.write_mpo_file(\"pbi\")\n",
    "pbi.write_mps_file(\"pbi\")"
   ]
  },
  {
   "cell_type": "markdown",
   "id": "c58a7b70",
   "metadata": {},
   "source": [
    "Showing the result saved in ```rout``` graphically:"
   ]
  },
  {
   "cell_type": "code",
   "execution_count": null,
   "id": "0f9cdca5",
   "metadata": {},
   "outputs": [],
   "source": [
    "import matplotlib.pyplot as plt\n",
    "plt.plot(rout[0,:],rout[1,:])\n",
    "plt.show()"
   ]
  }
 ],
 "metadata": {
  "kernelspec": {
   "display_name": "Python 3 (ipykernel)",
   "language": "python",
   "name": "python3"
  },
  "language_info": {
   "codemirror_mode": {
    "name": "ipython",
    "version": 3
   },
   "file_extension": ".py",
   "mimetype": "text/x-python",
   "name": "python",
   "nbconvert_exporter": "python",
   "pygments_lexer": "ipython3",
   "version": "3.10.6"
  },
  "vscode": {
   "interpreter": {
    "hash": "494b151317696aa412f85102113c47a839c88c304d06d0e2e6a25f0184b34ae0"
   }
  }
 },
 "nbformat": 4,
 "nbformat_minor": 5
}
